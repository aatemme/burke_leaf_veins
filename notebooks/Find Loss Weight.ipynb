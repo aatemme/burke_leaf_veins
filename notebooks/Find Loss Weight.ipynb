{
 "cells": [
  {
   "cell_type": "markdown",
   "metadata": {},
   "source": [
    "## Find Loss Weight\n",
    "\n",
    "Find the average fraction of pixels within a target mask that are marked as vein. This is used in trian.py to weight the cross entorpy loss to help with the imbalanced classes (vein vs not vein)"
   ]
  },
  {
   "cell_type": "code",
   "execution_count": 1,
   "metadata": {},
   "outputs": [],
   "source": [
    "%qtconsole"
   ]
  },
  {
   "cell_type": "code",
   "execution_count": 3,
   "metadata": {},
   "outputs": [],
   "source": [
    "import sys\n",
    "import os\n",
    "from tqdm import tqdm\n",
    "from os.path import join, basename\n",
    "from glob import glob\n",
    "\n",
    "from pytorch_utils import util\n",
    "\n",
    "project_root = os.path.abspath('../')"
   ]
  },
  {
   "cell_type": "code",
   "execution_count": 5,
   "metadata": {},
   "outputs": [],
   "source": [
    "images = glob(join(project_root,'data','processed','veins','target',\"*.png\"))"
   ]
  },
  {
   "cell_type": "code",
   "execution_count": 33,
   "metadata": {},
   "outputs": [
    {
     "name": "stderr",
     "output_type": "stream",
     "text": [
      "100%|██████████| 819/819 [00:19<00:00, 43.02it/s]\n"
     ]
    }
   ],
   "source": [
    "from skimage import io\n",
    "import numpy as np\n",
    "\n",
    "pixel_sum = []\n",
    "for img in tqdm(images):\n",
    "    pixel_sum.append( (io.imread(img) > 0).sum() )"
   ]
  },
  {
   "cell_type": "code",
   "execution_count": 34,
   "metadata": {},
   "outputs": [
    {
     "name": "stdout",
     "output_type": "stream",
     "text": [
      "Average number of mask pixels: 128071.283\n",
      "Number of pixels per image: 5002624.000\n",
      "Average fraction of mask pixels: 0.026\n"
     ]
    }
   ],
   "source": [
    "img = io.imread(images[0])\n",
    "                \n",
    "print(\"Average number of mask pixels: %0.3f\"%(np.mean(pixel_sum)))\n",
    "print(\"Number of pixels per image: %0.3f\"%(img.size))\n",
    "print(\"Average fraction of mask pixels: %0.3f\"%(np.mean(pixel_sum) / img.size))"
   ]
  },
  {
   "cell_type": "code",
   "execution_count": null,
   "metadata": {},
   "outputs": [],
   "source": []
  }
 ],
 "metadata": {
  "kernelspec": {
   "display_name": "Python 3",
   "language": "python",
   "name": "python3"
  },
  "language_info": {
   "codemirror_mode": {
    "name": "ipython",
    "version": 3
   },
   "file_extension": ".py",
   "mimetype": "text/x-python",
   "name": "python",
   "nbconvert_exporter": "python",
   "pygments_lexer": "ipython3",
   "version": "3.6.7"
  }
 },
 "nbformat": 4,
 "nbformat_minor": 2
}
