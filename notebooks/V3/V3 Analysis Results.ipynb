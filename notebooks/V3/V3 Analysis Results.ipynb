{
 "cells": [
  {
   "cell_type": "markdown",
   "metadata": {},
   "source": [
    "# Results\n",
    "\n",
    "This notebook collates the results of running each of the notebooks in this folder 4 times to get average IOU values. "
   ]
  },
  {
   "cell_type": "code",
   "execution_count": 1,
   "metadata": {},
   "outputs": [],
   "source": [
    "runs = {\n",
    "    'base': [0.41531, 0.41915, 0.43567, 0.41386],\n",
    "    'augs': [0.42040, 0.4186, 0.4192, 0.4334],\n",
    "    'no_weight': [0.313, 0.294, 0.2807, 0.3132],\n",
    "    'dilations': [0.5234, 0.5175, 0.5243, 0.51610]\n",
    "}"
   ]
  },
  {
   "cell_type": "code",
   "execution_count": 7,
   "metadata": {},
   "outputs": [
    {
     "name": "stdout",
     "output_type": "stream",
     "text": [
      "base,0.421 +/- 0.010\n",
      "augs,0.423 +/- 0.007\n",
      "no_weight,0.300 +/- 0.016\n",
      "dilations,0.520 +/- 0.004\n"
     ]
    }
   ],
   "source": [
    "from statistics import stdev, mean\n",
    "\n",
    "for run,results in runs.items():\n",
    "    s = stdev(results)\n",
    "    u = mean(results)\n",
    "    print(\"%s,%0.3f +/- %0.3f\"%(run,u,s))"
   ]
  },
  {
   "cell_type": "code",
   "execution_count": null,
   "metadata": {},
   "outputs": [],
   "source": []
  }
 ],
 "metadata": {
  "kernelspec": {
   "display_name": "Python 3",
   "language": "python",
   "name": "python3"
  },
  "language_info": {
   "codemirror_mode": {
    "name": "ipython",
    "version": 3
   },
   "file_extension": ".py",
   "mimetype": "text/x-python",
   "name": "python",
   "nbconvert_exporter": "python",
   "pygments_lexer": "ipython3",
   "version": "3.6.7"
  }
 },
 "nbformat": 4,
 "nbformat_minor": 2
}
